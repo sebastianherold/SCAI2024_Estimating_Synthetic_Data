{
 "cells": [
  {
   "cell_type": "markdown",
   "id": "be463f88",
   "metadata": {},
   "source": [
    "# Step 5: Measure Population Fidelity (PF)"
   ]
  },
  {
   "cell_type": "code",
   "execution_count": null,
   "id": "b1911373",
   "metadata": {
    "scrolled": true
   },
   "outputs": [],
   "source": [
    "import pandas as pd \n",
    "import sys\n",
    "import os\n",
    "import re\n",
    "\n",
    "from sdv.metadata import SingleTableMetadata\n",
    "\n",
    "sys.path.append('../src')\n",
    "from PF_metrics import compute_pf_measures\n",
    "from utils import (getExperimentConfig, \n",
    "                   getPicklesFromDir, \n",
    "                   get_synthetic_filepaths_from_original_data_id)\n",
    "\n",
    "config = getExperimentConfig()\n",
    "folders = config['folders']\n",
    "\n",
    "settings = getPicklesFromDir(folders['settings_dir'])"
   ]
  },
  {
   "cell_type": "code",
   "execution_count": null,
   "id": "c0404b2f",
   "metadata": {},
   "outputs": [],
   "source": [
    "# read file f it exists, if not-create dataframe\n",
    "pf_measures_filepath = folders['pf_measures_filepath']\n",
    "#pf_measures_filepath='../data/result/pMSE.csv'\n",
    "\n",
    "if os.path.exists(pf_measures_filepath):\n",
    "    result_df = pd.read_csv(pf_measures_filepath)\n",
    "else:\n",
    "    result_df = pd.DataFrame(columns=['Dataset id'])\n",
    "\n",
    "run_dataset = config['run_dataset']\n",
    "\n",
    "for dataset_setting in settings:\n",
    "            \n",
    "    if run_dataset is not None and dataset_setting['meta']['id'] not in run_dataset:\n",
    "        # Checks if run_dataset contains dataset_id's\n",
    "        # if it does, run the experiment only on specified datasets\n",
    "        print(f\"Skip pf for data id: {dataset_setting['meta']['id']}\")\n",
    "        continue\n",
    "        \n",
    "    original_data_id = dataset_setting['meta']['id']\n",
    "    synthetic_datasets = get_synthetic_filepaths_from_original_data_id(original_data_id)\n",
    "    # there is no synthetic datasets according to the Data id, skip and try next\n",
    "    if synthetic_datasets == []:\n",
    "        print(f\"Did not find synthetic dataset files\")\n",
    "        continue\n",
    "\n",
    "    original_data = pd.read_csv(folders['real_dir']+dataset_setting['meta']['filename'], dtype=dataset_setting['meta']['cols_dtype'])\n",
    "    metadata = SingleTableMetadata().load_from_json(dataset_setting['meta']['meta_filepath']).to_dict()\n",
    "\n",
    "    \n",
    "    print(f\"Data id: {original_data_id}\")\n",
    "    for sd_filename in synthetic_datasets:   \n",
    "        sd_id = os.path.splitext(sd_filename)[0]\n",
    "        quality = re.findall('Q\\d+', sd_id)[0]\n",
    "        sd_path = folders['sd_dir']+sd_filename\n",
    "\n",
    "        # Check if the dataset has already been evaluated\n",
    "        row_exists = ((result_df['Dataset id'] == sd_id)).any()\n",
    "        if not row_exists:\n",
    "            print(f\"Computing PF on: {sd_id}\")\n",
    "            synthetic_data = pd.read_csv(sd_path)\n",
    "\n",
    "            pf_measures = compute_pf_measures(original_data=original_data,\n",
    "                                                  synthetic_data=synthetic_data,\n",
    "                                                  custom_metadata=dataset_setting['meta'],\n",
    "                                                  sdv_metadata=metadata,\n",
    "                                                  SD_id=sd_id)\n",
    "            pf_measures['Quality'] = quality\n",
    "            pf_measures['Original dataset'] = original_data_id\n",
    "            result_df = pd.concat([result_df, pf_measures], axis=0, ignore_index=True)\n",
    "\n",
    "        # save the results\n",
    "        result_df.to_csv(pf_measures_filepath, index=False)"
   ]
  },
  {
   "cell_type": "code",
   "execution_count": null,
   "id": "b9d602d8-b1ee-428a-b826-84cf2c59cad5",
   "metadata": {},
   "outputs": [],
   "source": []
  }
 ],
 "metadata": {
  "kernelspec": {
   "display_name": "Python 3 (ipykernel)",
   "language": "python",
   "name": "python3"
  },
  "language_info": {
   "codemirror_mode": {
    "name": "ipython",
    "version": 3
   },
   "file_extension": ".py",
   "mimetype": "text/x-python",
   "name": "python",
   "nbconvert_exporter": "python",
   "pygments_lexer": "ipython3",
   "version": "3.9.18"
  },
  "toc": {
   "base_numbering": 1,
   "nav_menu": {
    "height": "163px",
    "width": "322px"
   },
   "number_sections": true,
   "sideBar": true,
   "skip_h1_title": false,
   "title_cell": "Table of Contents",
   "title_sidebar": "Contents",
   "toc_cell": false,
   "toc_position": {
    "height": "calc(100% - 180px)",
    "left": "10px",
    "top": "150px",
    "width": "328px"
   },
   "toc_section_display": true,
   "toc_window_display": false
  }
 },
 "nbformat": 4,
 "nbformat_minor": 5
}
