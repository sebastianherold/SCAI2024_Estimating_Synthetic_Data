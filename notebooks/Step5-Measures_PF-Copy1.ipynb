{
 "cells": [
  {
   "cell_type": "markdown",
   "id": "be463f88",
   "metadata": {},
   "source": [
    "# Step 5: Measure Population Fidelity (PF)"
   ]
  },
  {
   "cell_type": "code",
   "execution_count": null,
   "id": "b1911373",
   "metadata": {},
   "outputs": [],
   "source": [
    "import pandas as pd \n",
    "import sys\n",
    "import os\n",
    "import re\n",
    "\n",
    "sys.path.append('../src')\n",
    "from utils import (getExperimentConfig, \n",
    "                   getPicklesFromDir, \n",
    "                   get_synthetic_filepaths_from_original_data_id)\n",
    "\n",
    "config = getExperimentConfig()\n",
    "folders = config['folders']\n",
    "\n",
    "settings = getPicklesFromDir(folders['settings_dir'])\n",
    "\n",
    "from kmodes.kprototypes import KPrototypes\n",
    "from preprocessing import one_hot_encode, compute_zscore"
   ]
  },
  {
   "cell_type": "code",
   "execution_count": null,
   "id": "c0404b2f",
   "metadata": {},
   "outputs": [],
   "source": [
    "# read file f it exists, if not-create dataframe\n",
    "#pf_measures_filepath = folders['pf_measures_filepath']\n",
    "pf_measures_filepath='../data/result/Cluster_2.csv'\n",
    "\n",
    "result_df = pd.DataFrame(columns=['Dataset id'])\n",
    "run_dataset = 'D1'\n",
    "\n",
    "dataset_setting = {}\n",
    "for data in settings:\n",
    "     if data['meta']['id'] == run_dataset:\n",
    "        dataset_setting = data.copy()\n",
    "        break\n",
    "\n",
    "original_data_id = dataset_setting['meta']['id']\n",
    "synthetic_datasets = get_synthetic_filepaths_from_original_data_id(original_data_id)\n",
    "# there is no synthetic datasets according to the Data id, skip and try next\n",
    "if synthetic_datasets == []:\n",
    "    print(f\"Did not find synthetic dataset files\")\n",
    "\n",
    "original_data = pd.read_csv(folders['real_dir']+dataset_setting['meta']['filename'], dtype=dataset_setting['meta']['cols_dtype'])\n",
    "n_clusters =  round((original_data.shape[0])    * 0.020)\n",
    "print(f\"Data id: {original_data_id}\")\n",
    "sd_filename = synthetic_datasets[12]  \n",
    "sd_id = os.path.splitext(sd_filename)[0]\n",
    "quality = re.findall('Q\\d+', sd_id)[0]\n",
    "sd_path = folders['sd_dir']+sd_filename\n",
    "\n",
    "display(sd_id)"
   ]
  },
  {
   "cell_type": "code",
   "execution_count": null,
   "id": "4dcfd85d",
   "metadata": {},
   "outputs": [],
   "source": [
    "synthetic_data = pd.read_csv(sd_path, dtype=dataset_setting['meta']['cols_dtype'])       \n",
    "c_df = pd.concat([original_data, synthetic_data], axis=0, copy=True, ignore_index=True)\n",
    "\n",
    "numeric_cols = dataset_setting['meta']['numeric_features'] \n",
    "cat_cols = [dataset_setting['meta']['target']]\n",
    "cat_cols.extend(dataset_setting['meta']['categorical_features']) if dataset_setting['meta']['categorical_features'] != None else _\n",
    "cat_cols.extend(list(dataset_setting['meta']['ordinal_features'].keys())) if dataset_setting['meta']['ordinal_features'] != None else _\n",
    "\n",
    "cat_cols = list(set(cat_cols))\n",
    "\n",
    "cat_indices = [c_df.columns.get_loc(col) for col in cat_cols]\n",
    "c_df.isna().sum()\n",
    "\n",
    "display(c_df.shape)\n",
    "display(numeric_cols, len(numeric_cols))\n",
    "display(cat_cols, len(cat_cols))\n",
    "display(cat_indices)"
   ]
  },
  {
   "cell_type": "code",
   "execution_count": null,
   "id": "a89c8b1d",
   "metadata": {},
   "outputs": [],
   "source": [
    "from preprocessing import create_preprocessing_pipeline\n",
    "\n",
    "if dataset_setting['meta']['categorical_features'] != None:\n",
    "    dataset_setting['meta']['categorical_features'].append(dataset_setting['meta']['target'])\n",
    "else:\n",
    "    dataset_setting['meta']['categorical_features'] = [dataset_setting['meta']['target']]\n",
    "\n",
    "preprocessor = create_preprocessing_pipeline(dataset_setting['meta'])\n",
    "t_df = preprocessor.fit_transform(c_df)\n",
    "\n",
    "n_clusters = round((original_data.shape[0])    * 0.020)\n",
    "display(f\"N_clusters: {n_clusters}\")\n",
    "display(t_df.shape)\n",
    "display(dataset_setting['meta']['target'],dataset_setting['meta']['categorical_features'],dataset_setting['meta']['numeric_features'])\n",
    "\n",
    "kproto = KPrototypes(n_clusters=n_clusters, init='Cao', n_jobs=-1, max_iter=200, verbose=3)\n",
    "\n",
    "clusters = kproto.fit_predict(t_df, categorical=cat_indices)"
   ]
  },
  {
   "cell_type": "code",
   "execution_count": null,
   "id": "0e93e041",
   "metadata": {},
   "outputs": [],
   "source": [
    "t_cat_df, ohe_cols = one_hot_encode(c_df, cat_cols)\n",
    "t_num_df = compute_zscore(c_df, numeric_cols)\n",
    "t_df = pd.concat([t_num_df[numeric_cols], t_cat_df], axis=1, ignore_index=False, copy=True)\n",
    "display(f\"Num cols: {len(t_df.columns)}, Unique cols: {len(t_df.columns.unique())}\")\n",
    "display(t_num_df[numeric_cols].columns)\n",
    "cat_indices = [t_df.columns.get_loc(col) for col in ohe_cols]\n"
   ]
  },
  {
   "cell_type": "code",
   "execution_count": null,
   "id": "d811d197",
   "metadata": {},
   "outputs": [],
   "source": [
    "from sklearn.preprocessing import StandardScaler, OneHotEncoder\n",
    "from sklearn.compose import ColumnTransformer\n",
    "from sklearn.pipeline import Pipeline\n",
    "\n",
    "cat_cols = list(set(cat_cols))\n",
    "list_column_transformer = []\n",
    "num_transformer = Pipeline([('scaler', StandardScaler())])\n",
    "list_column_transformer.append(('num', num_transformer, numeric_cols))\n",
    "\n",
    "cat_transformer = Pipeline([('ohe', OneHotEncoder(handle_unknown='ignore', sparse=False))])\n",
    "list_column_transformer.append(('cat', cat_transformer, cat_cols))\n",
    "\n",
    "preprocessor = ColumnTransformer(list_column_transformer)\n",
    "\n",
    "cat_indices = [c_df.columns.get_loc(col) for col in cat_cols]\n",
    "t_df = preprocessor.fit_transform(c_df)\n",
    "\n",
    "display(t_df.shape)\n",
    "t_df\n",
    "\n"
   ]
  },
  {
   "cell_type": "code",
   "execution_count": null,
   "id": "81b7bb29",
   "metadata": {},
   "outputs": [],
   "source": []
  }
 ],
 "metadata": {
  "kernelspec": {
   "display_name": "Python 3 (ipykernel)",
   "language": "python",
   "name": "python3"
  },
  "language_info": {
   "codemirror_mode": {
    "name": "ipython",
    "version": 3
   },
   "file_extension": ".py",
   "mimetype": "text/x-python",
   "name": "python",
   "nbconvert_exporter": "python",
   "pygments_lexer": "ipython3",
   "version": "3.9.18"
  },
  "toc": {
   "base_numbering": 1,
   "nav_menu": {
    "height": "163px",
    "width": "322px"
   },
   "number_sections": true,
   "sideBar": true,
   "skip_h1_title": false,
   "title_cell": "Table of Contents",
   "title_sidebar": "Contents",
   "toc_cell": false,
   "toc_position": {
    "height": "calc(100% - 180px)",
    "left": "10px",
    "top": "150px",
    "width": "328px"
   },
   "toc_section_display": true,
   "toc_window_display": false
  }
 },
 "nbformat": 4,
 "nbformat_minor": 5
}
